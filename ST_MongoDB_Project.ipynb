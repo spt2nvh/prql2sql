{
 "cells": [
  {
   "cell_type": "code",
   "execution_count": 155,
   "id": "1b15d6b2-8329-4d34-aefb-621e6ca7e839",
   "metadata": {},
   "outputs": [],
   "source": [
    "\n",
    "import pymongo\n",
    "from pymongo import MongoClient\n",
    "import pandas as pd\n",
    "import os\n",
    "import bson\n",
    "import json\n",
    "\n",
    "#os.chdir('/Users/shannontran/Downloads') #changing directory to where my files are"
   ]
  },
  {
   "cell_type": "code",
   "execution_count": 4,
   "id": "70128089-9a06-4dd5-b97b-4563618e50d7",
   "metadata": {},
   "outputs": [],
   "source": [
    "# Connecting to Mongo db"
   ]
  },
  {
   "cell_type": "code",
   "execution_count": 284,
   "id": "84c79b90-b195-4c82-a243-d47e4b459377",
   "metadata": {},
   "outputs": [],
   "source": [
    "client = MongoClient('localhost', 27017)"
   ]
  },
  {
   "cell_type": "code",
   "execution_count": 285,
   "id": "6b788030-90dd-4fa9-bc7f-db270303e9dd",
   "metadata": {},
   "outputs": [
    {
     "data": {
      "text/plain": [
       "Database(MongoClient(host=['localhost:27017'], document_class=dict, tz_aware=False, connect=True), 'proj2_mongo')"
      ]
     },
     "execution_count": 285,
     "metadata": {},
     "output_type": "execute_result"
    }
   ],
   "source": [
    "db = client.proj2_mongo\n",
    "db"
   ]
  },
  {
   "cell_type": "code",
   "execution_count": null,
   "id": "269a8139-ea1c-4428-9f36-7f4ac0ae0172",
   "metadata": {},
   "outputs": [],
   "source": []
  },
  {
   "cell_type": "code",
   "execution_count": 286,
   "id": "86753373-7348-4d7c-98bf-6a7854f9bf2e",
   "metadata": {},
   "outputs": [],
   "source": [
    "# Importing datasets"
   ]
  },
  {
   "cell_type": "code",
   "execution_count": 287,
   "id": "7d6beb23-4e7d-487b-ab10-aa59fe03a112",
   "metadata": {},
   "outputs": [],
   "source": [
    "# students.csv\n",
    "students_df = pd.read_csv('students.csv')\n",
    "students_df = students_df.iloc[1:] #removes first row with datatypes\n",
    "students_df.head()\n",
    "\n",
    "students_df = students_df.astype({'student_id':int, 'total_credits':int}) #changing data types from str to int\n"
   ]
  },
  {
   "cell_type": "code",
   "execution_count": 288,
   "id": "18327907-a985-445c-ad40-aabae284b47f",
   "metadata": {},
   "outputs": [],
   "source": [
    "# in clubs \n",
    "in_club_df = pd.read_csv('in_club.csv')[1:]\n",
    "in_club_df = in_club_df.astype({'student_id':int, 'club_id':int})"
   ]
  },
  {
   "cell_type": "code",
   "execution_count": 289,
   "id": "9aafb291-c6bb-49e9-9b53-31d9861b9433",
   "metadata": {},
   "outputs": [],
   "source": [
    "# clubs\n",
    "club_df = pd.read_csv('club.csv')[1:]\n",
    "club_df = club_df.astype({'club_id':int, 'num_members':int})"
   ]
  },
  {
   "cell_type": "code",
   "execution_count": 290,
   "id": "df8ba10a-bd8d-4e3d-b058-8b0b344c5ef7",
   "metadata": {
    "tags": []
   },
   "outputs": [],
   "source": [
    "# department\n",
    "dept_df = pd.read_csv('department.csv')[1:]\n",
    "dept_df = dept_df.astype({'num_students':int, 'num_staff':int, 'budget':int})"
   ]
  },
  {
   "cell_type": "code",
   "execution_count": 291,
   "id": "3002f273-4be7-4338-9312-3b9a0f49d6cb",
   "metadata": {},
   "outputs": [],
   "source": [
    "# taking, use the taking/taken csv\n",
    "taken_df = pd.read_csv('taken.csv')[1:]\n",
    "taken_df = taken_df.astype({'student_id':int, 'year':int})"
   ]
  },
  {
   "cell_type": "code",
   "execution_count": 292,
   "id": "97141612-8aa1-4a6e-93b0-3438d71b1365",
   "metadata": {},
   "outputs": [],
   "source": [
    "# Converting to dict\n",
    "students_dict = students_df.to_dict('records')\n",
    "in_club_dict = in_club_df.to_dict('records')\n",
    "club_dict = club_df.to_dict('records')\n",
    "dept_dict = dept_df.to_dict('records')\n",
    "taken_dict = taken_df.to_dict('records')"
   ]
  },
  {
   "cell_type": "code",
   "execution_count": 293,
   "id": "44293a82-c72c-4e6f-b372-2fc96a7d6b4f",
   "metadata": {},
   "outputs": [],
   "source": [
    "# NESTING"
   ]
  },
  {
   "cell_type": "code",
   "execution_count": 294,
   "id": "e09ee3fe-dcc5-46cb-aba1-9f051013e4bb",
   "metadata": {},
   "outputs": [],
   "source": [
    "# Nests club into in_club\n",
    "for i in range(0, len(in_club_dict)):\n",
    "    club_id = in_club_dict[i]['club_id']\n",
    "    #print(club_id)\n",
    "    #print(club_df[club_df['club_id'] == club_id])\n",
    "    club_info = club_df[club_df['club_id'] == club_id][['club_name']].iloc[0].to_dict()\n",
    "    in_club_dict[i]['club_info'] = club_info\n",
    "\n",
    "#in_club_dict\n"
   ]
  },
  {
   "cell_type": "code",
   "execution_count": 295,
   "id": "c5d5382c-6e18-47ce-9c2e-9576cdfab458",
   "metadata": {},
   "outputs": [
    {
     "data": {
      "text/plain": [
       "[{'student_id': 3,\n",
       "  'club_id': 4,\n",
       "  'role': 'President',\n",
       "  'club_info': {'club_name': 'Club Running'},\n",
       "  'student_info': {'first_name': 'Mary', 'last_name': 'Jane'}},\n",
       " {'student_id': 10,\n",
       "  'club_id': 4,\n",
       "  'role': 'Member',\n",
       "  'club_info': {'club_name': 'Club Running'},\n",
       "  'student_info': {'first_name': 'Forge', 'last_name': 'Launch'}},\n",
       " {'student_id': 5,\n",
       "  'club_id': 4,\n",
       "  'role': 'Member',\n",
       "  'club_info': {'club_name': 'Club Running'},\n",
       "  'student_info': {'first_name': 'Jasmine', 'last_name': 'Wang'}},\n",
       " {'student_id': 1,\n",
       "  'club_id': 6,\n",
       "  'role': 'Member',\n",
       "  'club_info': {'club_name': 'Alternative Spring Break'},\n",
       "  'student_info': {'first_name': 'John', 'last_name': 'Doe'}},\n",
       " {'student_id': 7,\n",
       "  'club_id': 6,\n",
       "  'role': 'Vice President',\n",
       "  'club_info': {'club_name': 'Alternative Spring Break'},\n",
       "  'student_info': {'first_name': 'Johnny', 'last_name': 'Depp'}},\n",
       " {'student_id': 10,\n",
       "  'club_id': 1,\n",
       "  'role': 'Member',\n",
       "  'club_info': {'club_name': 'The Math Wizards'},\n",
       "  'student_info': {'first_name': 'Forge', 'last_name': 'Launch'}},\n",
       " {'student_id': 2,\n",
       "  'club_id': 1,\n",
       "  'role': 'President',\n",
       "  'club_info': {'club_name': 'The Math Wizards'},\n",
       "  'student_info': {'first_name': 'Jon', 'last_name': 'Kashmeeri'}},\n",
       " {'student_id': 1,\n",
       "  'club_id': 1,\n",
       "  'role': 'Member',\n",
       "  'club_info': {'club_name': 'The Math Wizards'},\n",
       "  'student_info': {'first_name': 'John', 'last_name': 'Doe'}},\n",
       " {'student_id': 8,\n",
       "  'club_id': 1,\n",
       "  'role': 'Member',\n",
       "  'club_info': {'club_name': 'The Math Wizards'},\n",
       "  'student_info': {'first_name': 'Jose', 'last_name': 'Pein'}},\n",
       " {'student_id': 2,\n",
       "  'club_id': 9,\n",
       "  'role': 'Secretary',\n",
       "  'club_info': {'club_name': 'Madison House'},\n",
       "  'student_info': {'first_name': 'Jon', 'last_name': 'Kashmeeri'}},\n",
       " {'student_id': 4,\n",
       "  'club_id': 9,\n",
       "  'role': 'Member',\n",
       "  'club_info': {'club_name': 'Madison House'},\n",
       "  'student_info': {'first_name': 'Mark', 'last_name': 'Maguire'}},\n",
       " {'student_id': 11,\n",
       "  'club_id': 9,\n",
       "  'role': 'Member',\n",
       "  'club_info': {'club_name': 'Madison House'},\n",
       "  'student_info': {'first_name': 'Silas', 'last_name': 'French'}},\n",
       " {'student_id': 18,\n",
       "  'club_id': 9,\n",
       "  'role': 'Member',\n",
       "  'club_info': {'club_name': 'Madison House'},\n",
       "  'student_info': {'first_name': 'Harold', 'last_name': 'Green'}},\n",
       " {'student_id': 20,\n",
       "  'club_id': 2,\n",
       "  'role': 'President',\n",
       "  'club_info': {'club_name': 'Computational Data Sciences'},\n",
       "  'student_info': {'first_name': 'Kennedy', 'last_name': 'Vorkin'}},\n",
       " {'student_id': 19,\n",
       "  'club_id': 2,\n",
       "  'role': 'Vice President',\n",
       "  'club_info': {'club_name': 'Computational Data Sciences'},\n",
       "  'student_info': {'first_name': 'Vormir', 'last_name': 'Laffery'}},\n",
       " {'student_id': 16,\n",
       "  'club_id': 2,\n",
       "  'role': 'Member',\n",
       "  'club_info': {'club_name': 'Computational Data Sciences'},\n",
       "  'student_info': {'first_name': 'Bo', 'last_name': 'Bo'}}]"
      ]
     },
     "execution_count": 295,
     "metadata": {},
     "output_type": "execute_result"
    }
   ],
   "source": [
    "# Nests student into in_club\n",
    "for i in range(0, len(in_club_dict)):\n",
    "    student_id = in_club_dict[i]['student_id']\n",
    "    student_info = students_df[students_df['student_id'] == student_id][['first_name', 'last_name']].iloc[0].to_dict()\n",
    "    in_club_dict[i]['student_info'] = student_info\n",
    "in_club_dict"
   ]
  },
  {
   "cell_type": "code",
   "execution_count": 296,
   "id": "5f18ebe3-24c8-4fac-8b5b-c39c598d8db9",
   "metadata": {},
   "outputs": [
    {
     "data": {
      "text/plain": [
       "[{'student_id': 1,\n",
       "  'first_name': 'John',\n",
       "  'last_name': 'Doe',\n",
       "  'dept_code': 'ECON',\n",
       "  'total_credits': 100,\n",
       "  'student_year': 'Senior',\n",
       "  'living_status': 'Off-campus',\n",
       "  'course_info': {'course_id': {1: 'ECON125',\n",
       "    2: 'IT214',\n",
       "    3: 'MATH231',\n",
       "    4: 'MATH232',\n",
       "    5: 'MUSI144'},\n",
       "   'semester': {1: 'Spring', 2: 'Spring', 3: 'Fall', 4: 'Spring', 5: 'Spring'},\n",
       "   'year': {1: 2022, 2: 2022, 3: 2021, 4: 2022, 5: 2022}}},\n",
       " {'student_id': 2,\n",
       "  'first_name': 'Jon',\n",
       "  'last_name': 'Kashmeeri',\n",
       "  'dept_code': 'BUS',\n",
       "  'total_credits': 113,\n",
       "  'student_year': 'Senior',\n",
       "  'living_status': 'Off-campus',\n",
       "  'course_info': {'course_id': {6: 'PSYC266', 7: 'STAT472', 8: 'LFIT115'},\n",
       "   'semester': {6: 'Fall', 7: 'Spring', 8: 'Spring'},\n",
       "   'year': {6: 2021, 7: 2022, 8: 2022}}},\n",
       " {'student_id': 3,\n",
       "  'first_name': 'Mary',\n",
       "  'last_name': 'Jane',\n",
       "  'dept_code': 'NUTR',\n",
       "  'total_credits': 25,\n",
       "  'student_year': 'Freshman',\n",
       "  'living_status': 'On-campus',\n",
       "  'course_info': {'course_id': {9: 'ECON420', 10: 'STAT155', 11: 'BIOL252'},\n",
       "   'semester': {9: 'Spring', 10: 'Fall', 11: 'Spring'},\n",
       "   'year': {9: 2021, 10: 2022, 11: 2021}}},\n",
       " {'student_id': 4,\n",
       "  'first_name': 'Mark',\n",
       "  'last_name': 'Maguire',\n",
       "  'dept_code': 'CS',\n",
       "  'total_credits': 95,\n",
       "  'student_year': 'Senior',\n",
       "  'living_status': 'On-campus',\n",
       "  'course_info': {'course_id': {12: 'IT214'},\n",
       "   'semester': {12: 'Fall'},\n",
       "   'year': {12: 2022}}},\n",
       " {'student_id': 5,\n",
       "  'first_name': 'Jasmine',\n",
       "  'last_name': 'Wang',\n",
       "  'dept_code': 'PSYC',\n",
       "  'total_credits': 23,\n",
       "  'student_year': 'Freshman',\n",
       "  'living_status': 'On-campus',\n",
       "  'course_info': {'course_id': {}, 'semester': {}, 'year': {}}},\n",
       " {'student_id': 6,\n",
       "  'first_name': 'Barbara',\n",
       "  'last_name': 'Olsen',\n",
       "  'dept_code': 'MUSI',\n",
       "  'total_credits': 66,\n",
       "  'student_year': 'Junior',\n",
       "  'living_status': 'On-campus',\n",
       "  'course_info': {'course_id': {13: 'CS110', 14: 'MATH381', 15: 'BUS101'},\n",
       "   'semester': {13: 'Fall', 14: 'Spring', 15: 'Fall'},\n",
       "   'year': {13: 2022, 14: 2021, 15: 2022}}},\n",
       " {'student_id': 7,\n",
       "  'first_name': 'Johnny',\n",
       "  'last_name': 'Depp',\n",
       "  'dept_code': 'STAT',\n",
       "  'total_credits': 85,\n",
       "  'student_year': 'Junior',\n",
       "  'living_status': 'Off-Campus',\n",
       "  'course_info': {'course_id': {16: 'CS310'},\n",
       "   'semester': {16: 'Fall'},\n",
       "   'year': {16: 2022}}},\n",
       " {'student_id': 8,\n",
       "  'first_name': 'Jose',\n",
       "  'last_name': 'Pein',\n",
       "  'dept_code': 'CS',\n",
       "  'total_credits': 15,\n",
       "  'student_year': 'Freshman',\n",
       "  'living_status': 'Off-Campus',\n",
       "  'course_info': {'course_id': {17: 'HIST335', 18: 'BIOL101L', 19: 'STAT155'},\n",
       "   'semester': {17: 'Spring', 18: 'Fall', 19: 'Fall'},\n",
       "   'year': {17: 2022, 18: 2021, 19: 2022}}},\n",
       " {'student_id': 9,\n",
       "  'first_name': 'Bo',\n",
       "  'last_name': 'Orblian',\n",
       "  'dept_code': 'CS',\n",
       "  'total_credits': 35,\n",
       "  'student_year': 'Sophomore',\n",
       "  'living_status': 'Off-Campus',\n",
       "  'course_info': {'course_id': {20: 'ENGL105', 21: 'CHEM241'},\n",
       "   'semester': {20: 'Fall', 21: 'Spring'},\n",
       "   'year': {20: 2022, 21: 2021}}},\n",
       " {'student_id': 10,\n",
       "  'first_name': 'Forge',\n",
       "  'last_name': 'Launch',\n",
       "  'dept_code': 'BIOL',\n",
       "  'total_credits': 24,\n",
       "  'student_year': 'Freshman',\n",
       "  'living_status': 'On-campus',\n",
       "  'course_info': {'course_id': {22: 'MATH231'},\n",
       "   'semester': {22: 'Fall'},\n",
       "   'year': {22: 2021}}},\n",
       " {'student_id': 11,\n",
       "  'first_name': 'Silas',\n",
       "  'last_name': 'French',\n",
       "  'dept_code': 'STAT',\n",
       "  'total_credits': 90,\n",
       "  'student_year': 'Senior',\n",
       "  'living_status': 'On-campus',\n",
       "  'course_info': {'course_id': {23: 'MATH232'},\n",
       "   'semester': {23: 'Spring'},\n",
       "   'year': {23: 2022}}},\n",
       " {'student_id': 12,\n",
       "  'first_name': 'Ronald',\n",
       "  'last_name': 'McDonald',\n",
       "  'dept_code': 'BUS',\n",
       "  'total_credits': 102,\n",
       "  'student_year': 'Senior',\n",
       "  'living_status': 'Off-campus',\n",
       "  'course_info': {'course_id': {}, 'semester': {}, 'year': {}}},\n",
       " {'student_id': 13,\n",
       "  'first_name': 'Walt',\n",
       "  'last_name': 'White',\n",
       "  'dept_code': 'CHEM',\n",
       "  'total_credits': 120,\n",
       "  'student_year': 'Senior',\n",
       "  'living_status': 'On-campus',\n",
       "  'course_info': {'course_id': {24: 'CS116'},\n",
       "   'semester': {24: 'Spring'},\n",
       "   'year': {24: 2022}}},\n",
       " {'student_id': 14,\n",
       "  'first_name': 'Darian',\n",
       "  'last_name': 'Sparrow',\n",
       "  'dept_code': 'ECON',\n",
       "  'total_credits': 56,\n",
       "  'student_year': 'Sophomore',\n",
       "  'living_status': 'Off-campus',\n",
       "  'course_info': {'course_id': {}, 'semester': {}, 'year': {}}},\n",
       " {'student_id': 15,\n",
       "  'first_name': 'Pierre',\n",
       "  'last_name': 'Gnawt',\n",
       "  'dept_code': 'ENGL',\n",
       "  'total_credits': 43,\n",
       "  'student_year': 'Sophomore',\n",
       "  'living_status': 'Off-campus',\n",
       "  'course_info': {'course_id': {}, 'semester': {}, 'year': {}}},\n",
       " {'student_id': 16,\n",
       "  'first_name': 'Bo',\n",
       "  'last_name': 'Bo',\n",
       "  'dept_code': 'MATH',\n",
       "  'total_credits': 92,\n",
       "  'student_year': 'Senior',\n",
       "  'living_status': 'On-campus',\n",
       "  'course_info': {'course_id': {}, 'semester': {}, 'year': {}}},\n",
       " {'student_id': 17,\n",
       "  'first_name': 'George',\n",
       "  'last_name': 'Lincoln',\n",
       "  'dept_code': 'HIST',\n",
       "  'total_credits': 120,\n",
       "  'student_year': 'Senior',\n",
       "  'living_status': 'Off-campus',\n",
       "  'course_info': {'course_id': {25: 'LFIT200', 26: 'BIOL101'},\n",
       "   'semester': {25: 'Spring', 26: 'Spring'},\n",
       "   'year': {25: 2021, 26: 2022}}},\n",
       " {'student_id': 18,\n",
       "  'first_name': 'Harold',\n",
       "  'last_name': 'Green',\n",
       "  'dept_code': 'NUTR',\n",
       "  'total_credits': 3,\n",
       "  'student_year': 'Freshman',\n",
       "  'living_status': 'On-campus',\n",
       "  'course_info': {'course_id': {27: 'CS126',\n",
       "    28: 'HIST145',\n",
       "    29: 'SPAN101',\n",
       "    30: 'NUTR201'},\n",
       "   'semester': {27: 'Spring', 28: 'Fall', 29: 'Spring', 30: 'Spring'},\n",
       "   'year': {27: 2021, 28: 2021, 29: 2021, 30: 2021}}},\n",
       " {'student_id': 19,\n",
       "  'first_name': 'Vormir',\n",
       "  'last_name': 'Laffery',\n",
       "  'dept_code': 'CS',\n",
       "  'total_credits': 89,\n",
       "  'student_year': 'Junior',\n",
       "  'living_status': 'Off-campus',\n",
       "  'course_info': {'course_id': {31: 'CHEM261'},\n",
       "   'semester': {31: 'Spring'},\n",
       "   'year': {31: 2021}}},\n",
       " {'student_id': 20,\n",
       "  'first_name': 'Kennedy',\n",
       "  'last_name': 'Vorkin',\n",
       "  'dept_code': 'PSYC',\n",
       "  'total_credits': 23,\n",
       "  'student_year': 'Freshman',\n",
       "  'living_status': 'On-campus',\n",
       "  'course_info': {'course_id': {32: 'SPAN201'},\n",
       "   'semester': {32: 'Fall'},\n",
       "   'year': {32: 2021}}}]"
      ]
     },
     "execution_count": 296,
     "metadata": {},
     "output_type": "execute_result"
    }
   ],
   "source": [
    "# Nest courses taken into students\n",
    "for i in range(0, len(students_dict)):\n",
    "    student_id=students_dict[i]['student_id']\n",
    "    class_info = taken_df[taken_df['student_id'] == student_id][['course_id', 'semester', 'year']]\n",
    "    #print(class_info.iloc[:])\n",
    "    if (False==class_info.empty):\n",
    "        inf = class_info.to_dict()\n",
    "    else:\n",
    "        inf = class_info.to_dict()\n",
    "    students_dict[i]['course_info'] = inf\n",
    "students_dict   "
   ]
  },
  {
   "cell_type": "code",
   "execution_count": 297,
   "id": "8d6d4fa3-2f19-49dd-9461-c874f13ce3a7",
   "metadata": {},
   "outputs": [],
   "source": [
    "students_dict\n",
    "a=json.dumps(students_dict)\n",
    "students_dict=json.loads(a)\n"
   ]
  },
  {
   "cell_type": "code",
   "execution_count": null,
   "id": "2c120b61-71bb-44b8-9f26-990a9865f72e",
   "metadata": {},
   "outputs": [],
   "source": []
  },
  {
   "cell_type": "code",
   "execution_count": 298,
   "id": "545124de-f2eb-493c-90e6-bbe705448eed",
   "metadata": {},
   "outputs": [],
   "source": [
    "# Connecting to MongoDB"
   ]
  },
  {
   "cell_type": "code",
   "execution_count": 299,
   "id": "c00e1750-d54b-481a-bbf8-0f4a12f6e41f",
   "metadata": {},
   "outputs": [],
   "source": [
    "in_club_collection = db.in_club # create collection"
   ]
  },
  {
   "cell_type": "code",
   "execution_count": 301,
   "id": "46468b5e-0380-46ea-9082-4a748db33728",
   "metadata": {},
   "outputs": [
    {
     "data": {
      "text/plain": [
       "<pymongo.results.InsertManyResult at 0x20a51b86fd0>"
      ]
     },
     "execution_count": 301,
     "metadata": {},
     "output_type": "execute_result"
    }
   ],
   "source": [
    "in_club_collection.delete_many({}) # reset just in case\n",
    "in_club_collection.insert_many(in_club_dict) #inserts nested dictionary into in_club collection"
   ]
  },
  {
   "cell_type": "code",
   "execution_count": 302,
   "id": "dc8e5b19-e030-4f31-b339-daeeeb02d1fa",
   "metadata": {},
   "outputs": [],
   "source": [
    "# Who are club presidents?\n",
    "query1 = in_club_collection.find({'role':'President'}, {'_id':0}) # fields set to zero are removed from output (for cleaner look)"
   ]
  },
  {
   "cell_type": "code",
   "execution_count": 303,
   "id": "0c21805d-41b0-4888-a78f-ebfa86eefdc7",
   "metadata": {
    "tags": []
   },
   "outputs": [
    {
     "name": "stdout",
     "output_type": "stream",
     "text": [
      "{'club_id': 4,\n",
      " 'club_info': {'club_name': 'Club Running'},\n",
      " 'role': 'President',\n",
      " 'student_id': 3,\n",
      " 'student_info': {'first_name': 'Mary', 'last_name': 'Jane'}}\n",
      "{'club_id': 1,\n",
      " 'club_info': {'club_name': 'The Math Wizards'},\n",
      " 'role': 'President',\n",
      " 'student_id': 2,\n",
      " 'student_info': {'first_name': 'Jon', 'last_name': 'Kashmeeri'}}\n",
      "{'club_id': 2,\n",
      " 'club_info': {'club_name': 'Computational Data Sciences'},\n",
      " 'role': 'President',\n",
      " 'student_id': 20,\n",
      " 'student_info': {'first_name': 'Kennedy', 'last_name': 'Vorkin'}}\n"
     ]
    }
   ],
   "source": [
    "import pprint #pretty print\n",
    "for e in query1:\n",
    "    pprint.pprint(e)"
   ]
  },
  {
   "cell_type": "code",
   "execution_count": 305,
   "id": "45c0d5a0-c2bc-4e8b-8a15-da169af06be9",
   "metadata": {
    "tags": []
   },
   "outputs": [
    {
     "name": "stdout",
     "output_type": "stream",
     "text": [
      "{'_id': ObjectId('6298e3ad83d88a23300cf13d'),\n",
      " 'club_id': 4,\n",
      " 'club_info': {'club_name': 'Club Running'},\n",
      " 'role': 'Member',\n",
      " 'student_id': 10,\n",
      " 'student_info': {'first_name': 'Forge', 'last_name': 'Launch'}}\n",
      "{'_id': ObjectId('6298e3ad83d88a23300cf13e'),\n",
      " 'club_id': 4,\n",
      " 'club_info': {'club_name': 'Club Running'},\n",
      " 'role': 'Member',\n",
      " 'student_id': 5,\n",
      " 'student_info': {'first_name': 'Jasmine', 'last_name': 'Wang'}}\n",
      "{'_id': ObjectId('6298e3ad83d88a23300cf13f'),\n",
      " 'club_id': 6,\n",
      " 'club_info': {'club_name': 'Alternative Spring Break'},\n",
      " 'role': 'Member',\n",
      " 'student_id': 1,\n",
      " 'student_info': {'first_name': 'John', 'last_name': 'Doe'}}\n",
      "{'_id': ObjectId('6298e3ad83d88a23300cf141'),\n",
      " 'club_id': 1,\n",
      " 'club_info': {'club_name': 'The Math Wizards'},\n",
      " 'role': 'Member',\n",
      " 'student_id': 10,\n",
      " 'student_info': {'first_name': 'Forge', 'last_name': 'Launch'}}\n",
      "{'_id': ObjectId('6298e3ad83d88a23300cf143'),\n",
      " 'club_id': 1,\n",
      " 'club_info': {'club_name': 'The Math Wizards'},\n",
      " 'role': 'Member',\n",
      " 'student_id': 1,\n",
      " 'student_info': {'first_name': 'John', 'last_name': 'Doe'}}\n",
      "{'_id': ObjectId('6298e3ad83d88a23300cf144'),\n",
      " 'club_id': 1,\n",
      " 'club_info': {'club_name': 'The Math Wizards'},\n",
      " 'role': 'Member',\n",
      " 'student_id': 8,\n",
      " 'student_info': {'first_name': 'Jose', 'last_name': 'Pein'}}\n",
      "{'_id': ObjectId('6298e3ad83d88a23300cf146'),\n",
      " 'club_id': 9,\n",
      " 'club_info': {'club_name': 'Madison House'},\n",
      " 'role': 'Member',\n",
      " 'student_id': 4,\n",
      " 'student_info': {'first_name': 'Mark', 'last_name': 'Maguire'}}\n",
      "{'_id': ObjectId('6298e3ad83d88a23300cf147'),\n",
      " 'club_id': 9,\n",
      " 'club_info': {'club_name': 'Madison House'},\n",
      " 'role': 'Member',\n",
      " 'student_id': 11,\n",
      " 'student_info': {'first_name': 'Silas', 'last_name': 'French'}}\n",
      "{'_id': ObjectId('6298e3ad83d88a23300cf148'),\n",
      " 'club_id': 9,\n",
      " 'club_info': {'club_name': 'Madison House'},\n",
      " 'role': 'Member',\n",
      " 'student_id': 18,\n",
      " 'student_info': {'first_name': 'Harold', 'last_name': 'Green'}}\n",
      "{'_id': ObjectId('6298e3ad83d88a23300cf14b'),\n",
      " 'club_id': 2,\n",
      " 'club_info': {'club_name': 'Computational Data Sciences'},\n",
      " 'role': 'Member',\n",
      " 'student_id': 16,\n",
      " 'student_info': {'first_name': 'Bo', 'last_name': 'Bo'}}\n"
     ]
    }
   ],
   "source": [
    "query2 = in_club_collection.find({'role':'Member'}) # fields set to zero are removed from output (for cleaner look)\n",
    "\n",
    "for e in query2:\n",
    "    pprint.pprint(e)"
   ]
  },
  {
   "cell_type": "code",
   "execution_count": 306,
   "id": "42d64e0b-d7bc-4b31-9d37-a08fed6af281",
   "metadata": {},
   "outputs": [
    {
     "data": {
      "text/plain": [
       "<pymongo.results.InsertManyResult at 0x20a51b86ac0>"
      ]
     },
     "execution_count": 306,
     "metadata": {},
     "output_type": "execute_result"
    }
   ],
   "source": [
    "# Who are seniors by credits? (>=90 credits)\n",
    "students_collection = db.students\n",
    "students_collection.delete_many({}) #reset just in case\n",
    "students_collection.insert_many(students_dict)\n"
   ]
  },
  {
   "cell_type": "code",
   "execution_count": 308,
   "id": "870924cd-be2b-4a57-ad2d-a9916989fd81",
   "metadata": {},
   "outputs": [
    {
     "name": "stdout",
     "output_type": "stream",
     "text": [
      "{'_id': ObjectId('6298e43183d88a23300cf14c'),\n",
      " 'first_name': 'John',\n",
      " 'last_name': 'Doe',\n",
      " 'student_year': 'Senior',\n",
      " 'total_credits': 100}\n",
      "{'_id': ObjectId('6298e43183d88a23300cf14d'),\n",
      " 'first_name': 'Jon',\n",
      " 'last_name': 'Kashmeeri',\n",
      " 'student_year': 'Senior',\n",
      " 'total_credits': 113}\n",
      "{'_id': ObjectId('6298e43183d88a23300cf14f'),\n",
      " 'first_name': 'Mark',\n",
      " 'last_name': 'Maguire',\n",
      " 'student_year': 'Senior',\n",
      " 'total_credits': 95}\n",
      "{'_id': ObjectId('6298e43183d88a23300cf156'),\n",
      " 'first_name': 'Silas',\n",
      " 'last_name': 'French',\n",
      " 'student_year': 'Senior',\n",
      " 'total_credits': 90}\n",
      "{'_id': ObjectId('6298e43183d88a23300cf157'),\n",
      " 'first_name': 'Ronald',\n",
      " 'last_name': 'McDonald',\n",
      " 'student_year': 'Senior',\n",
      " 'total_credits': 102}\n",
      "{'_id': ObjectId('6298e43183d88a23300cf158'),\n",
      " 'first_name': 'Walt',\n",
      " 'last_name': 'White',\n",
      " 'student_year': 'Senior',\n",
      " 'total_credits': 120}\n",
      "{'_id': ObjectId('6298e43183d88a23300cf15b'),\n",
      " 'first_name': 'Bo',\n",
      " 'last_name': 'Bo',\n",
      " 'student_year': 'Senior',\n",
      " 'total_credits': 92}\n",
      "{'_id': ObjectId('6298e43183d88a23300cf15c'),\n",
      " 'first_name': 'George',\n",
      " 'last_name': 'Lincoln',\n",
      " 'student_year': 'Senior',\n",
      " 'total_credits': 120}\n"
     ]
    }
   ],
   "source": [
    "query3 = students_collection.find({'total_credits':{'$gte':90}}, {'living_status':0, 'student_id':0, 'dept_code':0, 'course_info':0}) # fields set to zero are removed from output (for cleaner look)\n",
    "\n",
    "for e in query3:\n",
    "    pprint.pprint(e)"
   ]
  },
  {
   "cell_type": "code",
   "execution_count": 309,
   "id": "ac837a13-57fb-41f5-ba86-d311abd18afc",
   "metadata": {},
   "outputs": [
    {
     "data": {
      "text/plain": [
       "<pymongo.results.InsertManyResult at 0x20a519f5580>"
      ]
     },
     "execution_count": 309,
     "metadata": {},
     "output_type": "execute_result"
    }
   ],
   "source": [
    "dept_collection = db.dept\n",
    "dept_collection.delete_many({})\n",
    "dept_collection.insert_many(dept_dict)"
   ]
  },
  {
   "cell_type": "code",
   "execution_count": 311,
   "id": "4ae889e2-bfbc-4158-b1fc-2005cf8721a3",
   "metadata": {},
   "outputs": [
    {
     "name": "stdout",
     "output_type": "stream",
     "text": [
      "{'_id': ObjectId('6298e45583d88a23300cf168'),\n",
      " 'budget': 18000,\n",
      " 'dept_code': 'LFIT',\n",
      " 'dept_name': 'Fitness',\n",
      " 'num_staff': 16,\n",
      " 'num_students': 245}\n",
      "{'_id': ObjectId('6298e45583d88a23300cf160'),\n",
      " 'budget': 230000,\n",
      " 'dept_code': 'BIOL',\n",
      " 'dept_name': 'Biology',\n",
      " 'num_staff': 108,\n",
      " 'num_students': 223}\n",
      "{'_id': ObjectId('6298e45583d88a23300cf165'),\n",
      " 'budget': 16000,\n",
      " 'dept_code': 'ENGL',\n",
      " 'dept_name': 'English',\n",
      " 'num_staff': 24,\n",
      " 'num_students': 204}\n",
      "{'_id': ObjectId('6298e45583d88a23300cf167'),\n",
      " 'budget': 200000,\n",
      " 'dept_code': 'IT',\n",
      " 'dept_name': 'Information Technology',\n",
      " 'num_staff': 46,\n",
      " 'num_students': 200}\n",
      "{'_id': ObjectId('6298e45583d88a23300cf163'),\n",
      " 'budget': 190000,\n",
      " 'dept_code': 'CS',\n",
      " 'dept_name': 'Computer Science',\n",
      " 'num_staff': 40,\n",
      " 'num_students': 170}\n"
     ]
    }
   ],
   "source": [
    "#What are the top 5 most popular majors?\n",
    "pipe = ([\n",
    "     { \"$sort\" : { \"num_students\": -1 } },\n",
    "     { \"$limit\": 5}\n",
    "   ])\n",
    "\n",
    "query4 = dept_collection.aggregate(pipe)\n",
    "for e in query4:\n",
    "    pprint.pprint(e)"
   ]
  },
  {
   "cell_type": "code",
   "execution_count": 312,
   "id": "5fc3b65e-16e4-403a-bdab-e2a7a51499fc",
   "metadata": {},
   "outputs": [
    {
     "name": "stdout",
     "output_type": "stream",
     "text": [
      "{'_id': ObjectId('6298e45583d88a23300cf160'),\n",
      " 'budget': 230000,\n",
      " 'dept_code': 'BIOL',\n",
      " 'dept_name': 'Biology',\n",
      " 'num_staff': 108,\n",
      " 'num_students': 223}\n",
      "{'_id': ObjectId('6298e45583d88a23300cf167'),\n",
      " 'budget': 200000,\n",
      " 'dept_code': 'IT',\n",
      " 'dept_name': 'Information Technology',\n",
      " 'num_staff': 46,\n",
      " 'num_students': 200}\n",
      "{'_id': ObjectId('6298e45583d88a23300cf164'),\n",
      " 'budget': 200000,\n",
      " 'dept_code': 'ECON',\n",
      " 'dept_name': 'Economics',\n",
      " 'num_staff': 50,\n",
      " 'num_students': 150}\n",
      "{'_id': ObjectId('6298e45583d88a23300cf161'),\n",
      " 'budget': 200000,\n",
      " 'dept_code': 'BUS',\n",
      " 'dept_name': 'Business',\n",
      " 'num_staff': 45,\n",
      " 'num_students': 143}\n",
      "{'_id': ObjectId('6298e45583d88a23300cf163'),\n",
      " 'budget': 190000,\n",
      " 'dept_code': 'CS',\n",
      " 'dept_name': 'Computer Science',\n",
      " 'num_staff': 40,\n",
      " 'num_students': 170}\n"
     ]
    }
   ],
   "source": [
    "#students_collection.delete_many({})\n",
    "\n",
    "#What are the top 5 most funded departments?\n",
    "pipe = ([\n",
    "\n",
    "\n",
    "     { \"$sort\" : { \"budget\": -1 } },\n",
    "     { \"$limit\": 5}\n",
    "   ])\n",
    "\n",
    "query5 = dept_collection.aggregate(pipe)\n",
    "for e in query5:\n",
    "    pprint.pprint(e)"
   ]
  },
  {
   "cell_type": "code",
   "execution_count": 317,
   "id": "ced00e2e-6389-44e3-87e0-a35844b157a1",
   "metadata": {},
   "outputs": [
    {
     "data": {
      "text/plain": [
       "<pymongo.results.DeleteResult at 0x7ff04abf24c0>"
      ]
     },
     "execution_count": 317,
     "metadata": {},
     "output_type": "execute_result"
    }
   ],
   "source": [
    "#in_club_collection.delete_many({})\n",
    "#Which semester had the most courses / sections offered?\n",
    "\n",
    "students_collection = \n",
    "\n"
   ]
  },
  {
   "cell_type": "code",
   "execution_count": 39,
   "id": "d3b50b0f-d363-4df5-9c12-d38bd7ab65b5",
   "metadata": {},
   "outputs": [
    {
     "data": {
      "text/plain": [
       "[{'dept_code': 'BIOL',\n",
       "  'dept_name': 'Biology',\n",
       "  'num_staff': 108,\n",
       "  'num_students': 223,\n",
       "  'budget': 230000,\n",
       "  '_id': ObjectId('6298b79183d88a23300cf0b3')},\n",
       " {'dept_code': 'BUS',\n",
       "  'dept_name': 'Business',\n",
       "  'num_staff': 45,\n",
       "  'num_students': 143,\n",
       "  'budget': 200000,\n",
       "  '_id': ObjectId('6298b79183d88a23300cf0b4')},\n",
       " {'dept_code': 'CHEM',\n",
       "  'dept_name': 'Chemistry',\n",
       "  'num_staff': 25,\n",
       "  'num_students': 86,\n",
       "  'budget': 120000,\n",
       "  '_id': ObjectId('6298b79183d88a23300cf0b5')},\n",
       " {'dept_code': 'CS',\n",
       "  'dept_name': 'Computer Science',\n",
       "  'num_staff': 40,\n",
       "  'num_students': 170,\n",
       "  'budget': 190000,\n",
       "  '_id': ObjectId('6298b79183d88a23300cf0b6')},\n",
       " {'dept_code': 'ECON',\n",
       "  'dept_name': 'Economics',\n",
       "  'num_staff': 50,\n",
       "  'num_students': 150,\n",
       "  'budget': 200000,\n",
       "  '_id': ObjectId('6298b79183d88a23300cf0b7')},\n",
       " {'dept_code': 'ENGL',\n",
       "  'dept_name': 'English',\n",
       "  'num_staff': 24,\n",
       "  'num_students': 204,\n",
       "  'budget': 16000,\n",
       "  '_id': ObjectId('6298b79183d88a23300cf0b8')},\n",
       " {'dept_code': 'HIST',\n",
       "  'dept_name': 'History',\n",
       "  'num_staff': 12,\n",
       "  'num_students': 50,\n",
       "  'budget': 60000,\n",
       "  '_id': ObjectId('6298b79183d88a23300cf0b9')},\n",
       " {'dept_code': 'IT',\n",
       "  'dept_name': 'Information Technology',\n",
       "  'num_staff': 46,\n",
       "  'num_students': 200,\n",
       "  'budget': 200000,\n",
       "  '_id': ObjectId('6298b79183d88a23300cf0ba')},\n",
       " {'dept_code': 'LFIT',\n",
       "  'dept_name': 'Fitness',\n",
       "  'num_staff': 16,\n",
       "  'num_students': 245,\n",
       "  'budget': 18000,\n",
       "  '_id': ObjectId('6298b79183d88a23300cf0bb')},\n",
       " {'dept_code': 'MATH',\n",
       "  'dept_name': 'Mathematics',\n",
       "  'num_staff': 20,\n",
       "  'num_students': 101,\n",
       "  'budget': 120000,\n",
       "  '_id': ObjectId('6298b79183d88a23300cf0bc')},\n",
       " {'dept_code': 'MUSI',\n",
       "  'dept_name': 'Music',\n",
       "  'num_staff': 17,\n",
       "  'num_students': 63,\n",
       "  'budget': 70000,\n",
       "  '_id': ObjectId('6298b79183d88a23300cf0bd')},\n",
       " {'dept_code': 'NUTR',\n",
       "  'dept_name': 'Nutrition',\n",
       "  'num_staff': 15,\n",
       "  'num_students': 45,\n",
       "  'budget': 70000,\n",
       "  '_id': ObjectId('6298b79183d88a23300cf0be')},\n",
       " {'dept_code': 'PSYC',\n",
       "  'dept_name': 'Psychology',\n",
       "  'num_staff': 34,\n",
       "  'num_students': 90,\n",
       "  'budget': 90000,\n",
       "  '_id': ObjectId('6298b79183d88a23300cf0bf')},\n",
       " {'dept_code': 'STAT',\n",
       "  'dept_name': 'Statistics',\n",
       "  'num_staff': 13,\n",
       "  'num_students': 68,\n",
       "  'budget': 100000,\n",
       "  '_id': ObjectId('6298b79183d88a23300cf0c0')},\n",
       " {'dept_code': 'SPAN',\n",
       "  'dept_name': 'Spanish',\n",
       "  'num_staff': 10,\n",
       "  'num_students': 40,\n",
       "  'budget': 50000,\n",
       "  '_id': ObjectId('6298b79183d88a23300cf0c1')},\n",
       " {'dept_code': 'ENGL',\n",
       "  'dept_name': 'English',\n",
       "  'num_staff': 13,\n",
       "  'num_students': 48,\n",
       "  'budget': 50000,\n",
       "  '_id': ObjectId('6298b79183d88a23300cf0c2')}]"
      ]
     },
     "execution_count": 39,
     "metadata": {},
     "output_type": "execute_result"
    }
   ],
   "source": [
    "dept_dict"
   ]
  },
  {
   "cell_type": "code",
   "execution_count": null,
   "id": "279d4e8e-b6dc-4e1b-9f2d-a563f6458901",
   "metadata": {},
   "outputs": [],
   "source": []
  }
 ],
 "metadata": {
  "kernelspec": {
   "display_name": "Python 3 (ipykernel)",
   "language": "python",
   "name": "python3"
  },
  "language_info": {
   "codemirror_mode": {
    "name": "ipython",
    "version": 3
   },
   "file_extension": ".py",
   "mimetype": "text/x-python",
   "name": "python",
   "nbconvert_exporter": "python",
   "pygments_lexer": "ipython3",
   "version": "3.9.12"
  }
 },
 "nbformat": 4,
 "nbformat_minor": 5
}

{
 "cells": [
  {
   "cell_type": "code",
   "execution_count": 219,
   "id": "1b15d6b2-8329-4d34-aefb-621e6ca7e839",
   "metadata": {},
   "outputs": [],
   "source": [
    "import pymongo\n",
    "from pymongo import MongoClient\n",
    "import pandas as pd\n",
    "import os\n",
    "os.chdir('/Users/shannontran/Downloads') #changing directory to where my files are"
   ]
  },
  {
   "cell_type": "code",
   "execution_count": null,
   "id": "70128089-9a06-4dd5-b97b-4563618e50d7",
   "metadata": {},
   "outputs": [],
   "source": [
    "# Connecting to Mongo db"
   ]
  },
  {
   "cell_type": "code",
   "execution_count": 220,
   "id": "84c79b90-b195-4c82-a243-d47e4b459377",
   "metadata": {},
   "outputs": [],
   "source": [
    "client = MongoClient('localhost', 27017)"
   ]
  },
  {
   "cell_type": "code",
   "execution_count": 221,
   "id": "6b788030-90dd-4fa9-bc7f-db270303e9dd",
   "metadata": {},
   "outputs": [],
   "source": [
    "db = client.proj2_mongo"
   ]
  },
  {
   "cell_type": "code",
   "execution_count": 222,
   "id": "269a8139-ea1c-4428-9f36-7f4ac0ae0172",
   "metadata": {},
   "outputs": [],
   "source": []
  },
  {
   "cell_type": "code",
   "execution_count": null,
   "id": "86753373-7348-4d7c-98bf-6a7854f9bf2e",
   "metadata": {},
   "outputs": [],
   "source": [
    "# Importing datasets"
   ]
  },
  {
   "cell_type": "code",
   "execution_count": 223,
   "id": "7d6beb23-4e7d-487b-ab10-aa59fe03a112",
   "metadata": {},
   "outputs": [
    {
     "data": {
      "text/html": [
       "<div>\n",
       "<style scoped>\n",
       "    .dataframe tbody tr th:only-of-type {\n",
       "        vertical-align: middle;\n",
       "    }\n",
       "\n",
       "    .dataframe tbody tr th {\n",
       "        vertical-align: top;\n",
       "    }\n",
       "\n",
       "    .dataframe thead th {\n",
       "        text-align: right;\n",
       "    }\n",
       "</style>\n",
       "<table border=\"1\" class=\"dataframe\">\n",
       "  <thead>\n",
       "    <tr style=\"text-align: right;\">\n",
       "      <th></th>\n",
       "      <th>student_id</th>\n",
       "      <th>first_name</th>\n",
       "      <th>last_name</th>\n",
       "      <th>dept_code</th>\n",
       "      <th>total_credits</th>\n",
       "      <th>student_year</th>\n",
       "      <th>living_status</th>\n",
       "    </tr>\n",
       "  </thead>\n",
       "  <tbody>\n",
       "    <tr>\n",
       "      <th>1</th>\n",
       "      <td>1</td>\n",
       "      <td>John</td>\n",
       "      <td>Doe</td>\n",
       "      <td>ECON</td>\n",
       "      <td>100</td>\n",
       "      <td>Senior</td>\n",
       "      <td>Off-campus</td>\n",
       "    </tr>\n",
       "    <tr>\n",
       "      <th>2</th>\n",
       "      <td>2</td>\n",
       "      <td>Jon</td>\n",
       "      <td>Kashmeeri</td>\n",
       "      <td>BUS</td>\n",
       "      <td>113</td>\n",
       "      <td>Senior</td>\n",
       "      <td>Off-campus</td>\n",
       "    </tr>\n",
       "    <tr>\n",
       "      <th>3</th>\n",
       "      <td>3</td>\n",
       "      <td>Mary</td>\n",
       "      <td>Jane</td>\n",
       "      <td>NUTR</td>\n",
       "      <td>25</td>\n",
       "      <td>Freshman</td>\n",
       "      <td>On-campus</td>\n",
       "    </tr>\n",
       "    <tr>\n",
       "      <th>4</th>\n",
       "      <td>4</td>\n",
       "      <td>Mark</td>\n",
       "      <td>Maguire</td>\n",
       "      <td>CS</td>\n",
       "      <td>95</td>\n",
       "      <td>Senior</td>\n",
       "      <td>On-campus</td>\n",
       "    </tr>\n",
       "    <tr>\n",
       "      <th>5</th>\n",
       "      <td>5</td>\n",
       "      <td>Jasmine</td>\n",
       "      <td>Wang</td>\n",
       "      <td>PSYC</td>\n",
       "      <td>23</td>\n",
       "      <td>Freshman</td>\n",
       "      <td>On-campus</td>\n",
       "    </tr>\n",
       "  </tbody>\n",
       "</table>\n",
       "</div>"
      ],
      "text/plain": [
       "  student_id first_name  last_name dept_code total_credits student_year  \\\n",
       "1          1       John        Doe      ECON           100       Senior   \n",
       "2          2        Jon  Kashmeeri       BUS           113       Senior   \n",
       "3          3       Mary       Jane      NUTR            25     Freshman   \n",
       "4          4       Mark    Maguire        CS            95       Senior   \n",
       "5          5    Jasmine       Wang      PSYC            23     Freshman   \n",
       "\n",
       "  living_status  \n",
       "1    Off-campus  \n",
       "2    Off-campus  \n",
       "3     On-campus  \n",
       "4     On-campus  \n",
       "5     On-campus  "
      ]
     },
     "execution_count": 223,
     "metadata": {},
     "output_type": "execute_result"
    }
   ],
   "source": [
    "# students.csv\n",
    "students_df = pd.read_csv('students.csv')\n",
    "students_df = students_df.iloc[1:] #removes first row with datatypes\n",
    "students_df.head()\n",
    "\n",
    "students_df = students_df.astype({'student_id':int, 'total_credits':int}) #changing data types from str to int\n"
   ]
  },
  {
   "cell_type": "code",
   "execution_count": null,
   "id": "18327907-a985-445c-ad40-aabae284b47f",
   "metadata": {},
   "outputs": [],
   "source": [
    "# in clubs \n",
    "in_club_df = pd.read_csv('in_club.csv')[1:]\n",
    "in_club_df = in_club_df.astype({'student_id':int, 'club_id':int})"
   ]
  },
  {
   "cell_type": "code",
   "execution_count": 224,
   "id": "9aafb291-c6bb-49e9-9b53-31d9861b9433",
   "metadata": {},
   "outputs": [],
   "source": [
    "# clubs\n",
    "club_df = pd.read_csv('club.csv')[1:]\n",
    "club_df = club_df.astype({'club_id':int, 'num_members':int})"
   ]
  },
  {
   "cell_type": "code",
   "execution_count": null,
   "id": "df8ba10a-bd8d-4e3d-b058-8b0b344c5ef7",
   "metadata": {
    "tags": []
   },
   "outputs": [],
   "source": []
  },
  {
   "cell_type": "code",
   "execution_count": null,
   "id": "97141612-8aa1-4a6e-93b0-3438d71b1365",
   "metadata": {},
   "outputs": [],
   "source": [
    "# Converting to dict\n",
    "students_dict = students_df.to_dict('records')\n",
    "in_club_dict = in_club_df.to_dict('records')\n",
    "club_dict = clubs_df.to_dict('records')\n"
   ]
  },
  {
   "cell_type": "code",
   "execution_count": 245,
   "id": "44293a82-c72c-4e6f-b372-2fc96a7d6b4f",
   "metadata": {},
   "outputs": [],
   "source": []
  },
  {
   "cell_type": "code",
   "execution_count": null,
   "id": "7c3d5d4f-4995-4b5a-9d9d-497a55ff876b",
   "metadata": {},
   "outputs": [],
   "source": []
  },
  {
   "cell_type": "code",
   "execution_count": 249,
   "id": "e09ee3fe-dcc5-46cb-aba1-9f051013e4bb",
   "metadata": {},
   "outputs": [],
   "source": [
    "# Nests club into in_club\n",
    "for i in range(0, len(in_club_dict)):\n",
    "    club_id = in_club_dict[i]['club_id']\n",
    "    club_info = club_df[club_df['club_id'] == club_id][['club_name']].iloc[0].to_dict()\n",
    "    in_club_dict[i]['club_id'] = club_info\n",
    "    #print(club_info)"
   ]
  },
  {
   "cell_type": "code",
   "execution_count": 251,
   "id": "c5d5382c-6e18-47ce-9c2e-9576cdfab458",
   "metadata": {},
   "outputs": [],
   "source": [
    "# Nests student into in_club\n",
    "for i in range(0, len(in_club_dict)):\n",
    "    student_id = in_club_dict[i]['student_id']\n",
    "    student_info = students_df[students_df['student_id'] == student_id][['first_name', 'last_name']].iloc[0].to_dict()\n",
    "    in_club_dict[i]['student_id'] = student_info\n"
   ]
  },
  {
   "cell_type": "code",
   "execution_count": null,
   "id": "8d6d4fa3-2f19-49dd-9461-c874f13ce3a7",
   "metadata": {},
   "outputs": [],
   "source": [
    "in_club_dict[1]"
   ]
  },
  {
   "cell_type": "code",
   "execution_count": null,
   "id": "2c120b61-71bb-44b8-9f26-990a9865f72e",
   "metadata": {},
   "outputs": [],
   "source": []
  },
  {
   "cell_type": "code",
   "execution_count": null,
   "id": "545124de-f2eb-493c-90e6-bbe705448eed",
   "metadata": {},
   "outputs": [],
   "source": [
    "# Connecting to MongoDB"
   ]
  },
  {
   "cell_type": "code",
   "execution_count": 253,
   "id": "c00e1750-d54b-481a-bbf8-0f4a12f6e41f",
   "metadata": {},
   "outputs": [],
   "source": [
    "in_club_collection = db.in_club # create collection"
   ]
  },
  {
   "cell_type": "code",
   "execution_count": 254,
   "id": "46468b5e-0380-46ea-9082-4a748db33728",
   "metadata": {},
   "outputs": [
    {
     "data": {
      "text/plain": [
       "<pymongo.results.InsertManyResult at 0x7ff04abf2100>"
      ]
     },
     "execution_count": 254,
     "metadata": {},
     "output_type": "execute_result"
    }
   ],
   "source": [
    "in_club_collection.insert_many(in_club_dict) #inserts nested dictionary into in_club collection"
   ]
  },
  {
   "cell_type": "code",
   "execution_count": 264,
   "id": "dc8e5b19-e030-4f31-b339-daeeeb02d1fa",
   "metadata": {},
   "outputs": [
    {
     "data": {
      "text/plain": [
       "<pymongo.cursor.Cursor at 0x7ff04aeb6310>"
      ]
     },
     "execution_count": 264,
     "metadata": {},
     "output_type": "execute_result"
    }
   ],
   "source": [
    "# Who are club presidents?\n",
    "query1 = in_club_collection.find({'role':'President'}"
   ]
  },
  {
   "cell_type": "code",
   "execution_count": 265,
   "id": "0c21805d-41b0-4888-a78f-ebfa86eefdc7",
   "metadata": {},
   "outputs": [
    {
     "name": "stdout",
     "output_type": "stream",
     "text": [
      "{'_id': ObjectId('6297c04557c9c4be73ede0c9'),\n",
      " 'club_id': {'club_name': 'Club Running'},\n",
      " 'role': 'President',\n",
      " 'student_id': {'first_name': 'Mary', 'last_name': 'Jane'}}\n",
      "{'_id': ObjectId('6297c04557c9c4be73ede0cf'),\n",
      " 'club_id': {'club_name': 'The Math Wizards'},\n",
      " 'role': 'President',\n",
      " 'student_id': {'first_name': 'Jon', 'last_name': 'Kashmeeri'}}\n",
      "{'_id': ObjectId('6297c04557c9c4be73ede0d6'),\n",
      " 'club_id': {'club_name': 'Computational Data Sciences'},\n",
      " 'role': 'President',\n",
      " 'student_id': {'first_name': 'Kennedy', 'last_name': 'Vorkin'}}\n"
     ]
    }
   ],
   "source": [
    "import pprint #pretty print\n",
    "for e in query1:\n",
    "    pprint.pprint(e)"
   ]
  },
  {
   "cell_type": "code",
   "execution_count": null,
   "id": "45c0d5a0-c2bc-4e8b-8a15-da169af06be9",
   "metadata": {},
   "outputs": [],
   "source": []
  }
 ],
 "metadata": {
  "kernelspec": {
   "display_name": "Python 3 (ipykernel)",
   "language": "python",
   "name": "python3"
  },
  "language_info": {
   "codemirror_mode": {
    "name": "ipython",
    "version": 3
   },
   "file_extension": ".py",
   "mimetype": "text/x-python",
   "name": "python",
   "nbconvert_exporter": "python",
   "pygments_lexer": "ipython3",
   "version": "3.9.7"
  }
 },
 "nbformat": 4,
 "nbformat_minor": 5
}

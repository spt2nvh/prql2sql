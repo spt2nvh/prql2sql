{
 "cells": [
  {
   "cell_type": "code",
   "execution_count": 295,
   "id": "1b15d6b2-8329-4d34-aefb-621e6ca7e839",
   "metadata": {},
   "outputs": [],
   "source": [
    "import pymongo\n",
    "from pymongo import MongoClient\n",
    "import pandas as pd\n",
    "import os\n",
    "os.chdir('/Users/shannontran/Downloads') #changing directory to where my files are"
   ]
  },
  {
   "cell_type": "code",
   "execution_count": 296,
   "id": "70128089-9a06-4dd5-b97b-4563618e50d7",
   "metadata": {},
   "outputs": [],
   "source": [
    "# Connecting to Mongo db"
   ]
  },
  {
   "cell_type": "code",
   "execution_count": 297,
   "id": "84c79b90-b195-4c82-a243-d47e4b459377",
   "metadata": {},
   "outputs": [],
   "source": [
    "client = MongoClient('localhost', 27017)"
   ]
  },
  {
   "cell_type": "code",
   "execution_count": 298,
   "id": "6b788030-90dd-4fa9-bc7f-db270303e9dd",
   "metadata": {},
   "outputs": [],
   "source": [
    "db = client.proj2_mongo"
   ]
  },
  {
   "cell_type": "code",
   "execution_count": null,
   "id": "269a8139-ea1c-4428-9f36-7f4ac0ae0172",
   "metadata": {},
   "outputs": [],
   "source": []
  },
  {
   "cell_type": "code",
   "execution_count": 299,
   "id": "86753373-7348-4d7c-98bf-6a7854f9bf2e",
   "metadata": {},
   "outputs": [],
   "source": [
    "# Importing datasets"
   ]
  },
  {
   "cell_type": "code",
   "execution_count": 300,
   "id": "7d6beb23-4e7d-487b-ab10-aa59fe03a112",
   "metadata": {},
   "outputs": [],
   "source": [
    "# students.csv\n",
    "students_df = pd.read_csv('students.csv')\n",
    "students_df = students_df.iloc[1:] #removes first row with datatypes\n",
    "students_df.head()\n",
    "\n",
    "students_df = students_df.astype({'student_id':int, 'total_credits':int}) #changing data types from str to int\n"
   ]
  },
  {
   "cell_type": "code",
   "execution_count": 301,
   "id": "18327907-a985-445c-ad40-aabae284b47f",
   "metadata": {},
   "outputs": [],
   "source": [
    "# in clubs \n",
    "in_club_df = pd.read_csv('in_club.csv')[1:]\n",
    "in_club_df = in_club_df.astype({'student_id':int, 'club_id':int})"
   ]
  },
  {
   "cell_type": "code",
   "execution_count": 302,
   "id": "9aafb291-c6bb-49e9-9b53-31d9861b9433",
   "metadata": {},
   "outputs": [],
   "source": [
    "# clubs\n",
    "club_df = pd.read_csv('club.csv')[1:]\n",
    "club_df = club_df.astype({'club_id':int, 'num_members':int})"
   ]
  },
  {
   "cell_type": "code",
   "execution_count": null,
   "id": "df8ba10a-bd8d-4e3d-b058-8b0b344c5ef7",
   "metadata": {
    "tags": []
   },
   "outputs": [],
   "source": []
  },
  {
   "cell_type": "code",
   "execution_count": 303,
   "id": "97141612-8aa1-4a6e-93b0-3438d71b1365",
   "metadata": {},
   "outputs": [],
   "source": [
    "# Converting to dict\n",
    "students_dict = students_df.to_dict('records')\n",
    "in_club_dict = in_club_df.to_dict('records')\n",
    "club_dict = clubs_df.to_dict('records')\n"
   ]
  },
  {
   "cell_type": "code",
   "execution_count": null,
   "id": "44293a82-c72c-4e6f-b372-2fc96a7d6b4f",
   "metadata": {},
   "outputs": [],
   "source": []
  },
  {
   "cell_type": "code",
   "execution_count": null,
   "id": "7c3d5d4f-4995-4b5a-9d9d-497a55ff876b",
   "metadata": {},
   "outputs": [],
   "source": []
  },
  {
   "cell_type": "code",
   "execution_count": 304,
   "id": "e09ee3fe-dcc5-46cb-aba1-9f051013e4bb",
   "metadata": {},
   "outputs": [],
   "source": [
    "# Nests club into in_club\n",
    "for i in range(0, len(in_club_dict)):\n",
    "    club_id = in_club_dict[i]['club_id']\n",
    "    club_info = club_df[club_df['club_id'] == club_id][['club_name']].iloc[0].to_dict()\n",
    "    in_club_dict[i]['club_id'] = club_info\n",
    "    #print(club_info)"
   ]
  },
  {
   "cell_type": "code",
   "execution_count": 305,
   "id": "c5d5382c-6e18-47ce-9c2e-9576cdfab458",
   "metadata": {},
   "outputs": [],
   "source": [
    "# Nests student into in_club\n",
    "for i in range(0, len(in_club_dict)):\n",
    "    student_id = in_club_dict[i]['student_id']\n",
    "    student_info = students_df[students_df['student_id'] == student_id][['first_name', 'last_name']].iloc[0].to_dict()\n",
    "    in_club_dict[i]['student_id'] = student_info\n"
   ]
  },
  {
   "cell_type": "code",
   "execution_count": 306,
   "id": "8d6d4fa3-2f19-49dd-9461-c874f13ce3a7",
   "metadata": {},
   "outputs": [
    {
     "data": {
      "text/plain": [
       "{'student_id': {'first_name': 'Forge', 'last_name': 'Launch'},\n",
       " 'club_id': {'club_name': 'Club Running'},\n",
       " 'role': 'Member'}"
      ]
     },
     "execution_count": 306,
     "metadata": {},
     "output_type": "execute_result"
    }
   ],
   "source": [
    "in_club_dict[1]"
   ]
  },
  {
   "cell_type": "code",
   "execution_count": null,
   "id": "2c120b61-71bb-44b8-9f26-990a9865f72e",
   "metadata": {},
   "outputs": [],
   "source": []
  },
  {
   "cell_type": "code",
   "execution_count": 307,
   "id": "545124de-f2eb-493c-90e6-bbe705448eed",
   "metadata": {},
   "outputs": [],
   "source": [
    "# Connecting to MongoDB"
   ]
  },
  {
   "cell_type": "code",
   "execution_count": 308,
   "id": "c00e1750-d54b-481a-bbf8-0f4a12f6e41f",
   "metadata": {},
   "outputs": [],
   "source": [
    "in_club_collection = db.in_club # create collection"
   ]
  },
  {
   "cell_type": "code",
   "execution_count": 318,
   "id": "46468b5e-0380-46ea-9082-4a748db33728",
   "metadata": {},
   "outputs": [
    {
     "data": {
      "text/plain": [
       "<pymongo.results.InsertManyResult at 0x7ff04abf26d0>"
      ]
     },
     "execution_count": 318,
     "metadata": {},
     "output_type": "execute_result"
    }
   ],
   "source": [
    "in_club_collection.insert_many(in_club_dict) #inserts nested dictionary into in_club collection"
   ]
  },
  {
   "cell_type": "code",
   "execution_count": 328,
   "id": "dc8e5b19-e030-4f31-b339-daeeeb02d1fa",
   "metadata": {},
   "outputs": [],
   "source": [
    "# Who are club presidents?\n",
    "query1 = in_club_collection.find({'role':'President'}, {'_id':0}) # fields set to zero are removed from output (for cleaner look)"
   ]
  },
  {
   "cell_type": "code",
   "execution_count": 329,
   "id": "0c21805d-41b0-4888-a78f-ebfa86eefdc7",
   "metadata": {
    "tags": []
   },
   "outputs": [
    {
     "name": "stdout",
     "output_type": "stream",
     "text": [
      "{'club_id': {'club_name': 'Club Running'},\n",
      " 'role': 'President',\n",
      " 'student_id': {'first_name': 'Mary', 'last_name': 'Jane'}}\n",
      "{'club_id': {'club_name': 'The Math Wizards'},\n",
      " 'role': 'President',\n",
      " 'student_id': {'first_name': 'Jon', 'last_name': 'Kashmeeri'}}\n",
      "{'club_id': {'club_name': 'Computational Data Sciences'},\n",
      " 'role': 'President',\n",
      " 'student_id': {'first_name': 'Kennedy', 'last_name': 'Vorkin'}}\n"
     ]
    }
   ],
   "source": [
    "import pprint #pretty print\n",
    "for e in query1:\n",
    "    pprint.pprint(e)"
   ]
  },
  {
   "cell_type": "code",
   "execution_count": 327,
   "id": "45c0d5a0-c2bc-4e8b-8a15-da169af06be9",
   "metadata": {
    "tags": []
   },
   "outputs": [
    {
     "name": "stdout",
     "output_type": "stream",
     "text": [
      "{'club_id': {'club_name': 'Club Running'},\n",
      " 'role': 'Member',\n",
      " 'student_id': {'first_name': 'Forge', 'last_name': 'Launch'}}\n",
      "{'club_id': {'club_name': 'Club Running'},\n",
      " 'role': 'Member',\n",
      " 'student_id': {'first_name': 'Jasmine', 'last_name': 'Wang'}}\n",
      "{'club_id': {'club_name': 'Alternative Spring Break'},\n",
      " 'role': 'Member',\n",
      " 'student_id': {'first_name': 'John', 'last_name': 'Doe'}}\n",
      "{'club_id': {'club_name': 'The Math Wizards'},\n",
      " 'role': 'Member',\n",
      " 'student_id': {'first_name': 'Forge', 'last_name': 'Launch'}}\n",
      "{'club_id': {'club_name': 'The Math Wizards'},\n",
      " 'role': 'Member',\n",
      " 'student_id': {'first_name': 'John', 'last_name': 'Doe'}}\n",
      "{'club_id': {'club_name': 'The Math Wizards'},\n",
      " 'role': 'Member',\n",
      " 'student_id': {'first_name': 'Jose', 'last_name': 'Pein'}}\n",
      "{'club_id': {'club_name': 'Madison House'},\n",
      " 'role': 'Member',\n",
      " 'student_id': {'first_name': 'Mark', 'last_name': 'Maguire'}}\n",
      "{'club_id': {'club_name': 'Madison House'},\n",
      " 'role': 'Member',\n",
      " 'student_id': {'first_name': 'Silas', 'last_name': 'French'}}\n",
      "{'club_id': {'club_name': 'Madison House'},\n",
      " 'role': 'Member',\n",
      " 'student_id': {'first_name': 'Harold', 'last_name': 'Green'}}\n",
      "{'club_id': {'club_name': 'Computational Data Sciences'},\n",
      " 'role': 'Member',\n",
      " 'student_id': {'first_name': 'Bo', 'last_name': 'Bo'}}\n"
     ]
    }
   ],
   "source": [
    "query2 = in_club_collection.find({'role':'Member'}, {'_id':0}) # fields set to zero are removed from output (for cleaner look)\n",
    "\n",
    "for e in query2:\n",
    "    pprint.pprint(e)"
   ]
  },
  {
   "cell_type": "code",
   "execution_count": 325,
   "id": "42d64e0b-d7bc-4b31-9d37-a08fed6af281",
   "metadata": {},
   "outputs": [
    {
     "data": {
      "text/plain": [
       "<pymongo.results.InsertManyResult at 0x7ff04aeefeb0>"
      ]
     },
     "execution_count": 325,
     "metadata": {},
     "output_type": "execute_result"
    }
   ],
   "source": [
    "# Who are seniors by credits? (>=90 credits)\n",
    "students_collection.insert_many(students_dict)"
   ]
  },
  {
   "cell_type": "code",
   "execution_count": 326,
   "id": "870924cd-be2b-4a57-ad2d-a9916989fd81",
   "metadata": {},
   "outputs": [
    {
     "name": "stdout",
     "output_type": "stream",
     "text": [
      "{'_id': ObjectId('6297ca7257c9c4be73ede123'),\n",
      " 'first_name': 'John',\n",
      " 'last_name': 'Doe',\n",
      " 'student_year': 'Senior',\n",
      " 'total_credits': 100}\n",
      "{'_id': ObjectId('6297ca7257c9c4be73ede124'),\n",
      " 'first_name': 'Jon',\n",
      " 'last_name': 'Kashmeeri',\n",
      " 'student_year': 'Senior',\n",
      " 'total_credits': 113}\n",
      "{'_id': ObjectId('6297ca7257c9c4be73ede126'),\n",
      " 'first_name': 'Mark',\n",
      " 'last_name': 'Maguire',\n",
      " 'student_year': 'Senior',\n",
      " 'total_credits': 95}\n",
      "{'_id': ObjectId('6297ca7257c9c4be73ede12d'),\n",
      " 'first_name': 'Silas',\n",
      " 'last_name': 'French',\n",
      " 'student_year': 'Senior',\n",
      " 'total_credits': 90}\n",
      "{'_id': ObjectId('6297ca7257c9c4be73ede12e'),\n",
      " 'first_name': 'Ronald',\n",
      " 'last_name': 'McDonald',\n",
      " 'student_year': 'Senior',\n",
      " 'total_credits': 102}\n",
      "{'_id': ObjectId('6297ca7257c9c4be73ede12f'),\n",
      " 'first_name': 'Walt',\n",
      " 'last_name': 'White',\n",
      " 'student_year': 'Senior',\n",
      " 'total_credits': 120}\n",
      "{'_id': ObjectId('6297ca7257c9c4be73ede132'),\n",
      " 'first_name': 'Bo',\n",
      " 'last_name': 'Bo',\n",
      " 'student_year': 'Senior',\n",
      " 'total_credits': 92}\n",
      "{'_id': ObjectId('6297ca7257c9c4be73ede133'),\n",
      " 'first_name': 'George',\n",
      " 'last_name': 'Lincoln',\n",
      " 'student_year': 'Senior',\n",
      " 'total_credits': 120}\n"
     ]
    }
   ],
   "source": [
    "query3 = students_collection.find({'total_credits':{'$gte':90}}, {'living_status':0, 'student_id':0, 'dept_code':0}) # fields set to zero are removed from output (for cleaner look)\n",
    "\n",
    "for e in query3:\n",
    "    pprint.pprint(e)"
   ]
  },
  {
   "cell_type": "code",
   "execution_count": null,
   "id": "4ae889e2-bfbc-4158-b1fc-2005cf8721a3",
   "metadata": {},
   "outputs": [],
   "source": []
  },
  {
   "cell_type": "code",
   "execution_count": 324,
   "id": "5fc3b65e-16e4-403a-bdab-e2a7a51499fc",
   "metadata": {},
   "outputs": [
    {
     "data": {
      "text/plain": [
       "<pymongo.results.DeleteResult at 0x7ff04abe4ca0>"
      ]
     },
     "execution_count": 324,
     "metadata": {},
     "output_type": "execute_result"
    }
   ],
   "source": [
    "#students_collection.delete_many({})"
   ]
  },
  {
   "cell_type": "code",
   "execution_count": 317,
   "id": "ced00e2e-6389-44e3-87e0-a35844b157a1",
   "metadata": {},
   "outputs": [
    {
     "data": {
      "text/plain": [
       "<pymongo.results.DeleteResult at 0x7ff04abf24c0>"
      ]
     },
     "execution_count": 317,
     "metadata": {},
     "output_type": "execute_result"
    }
   ],
   "source": [
    "#in_club_collection.delete_many({})"
   ]
  },
  {
   "cell_type": "code",
   "execution_count": null,
   "id": "d3b50b0f-d363-4df5-9c12-d38bd7ab65b5",
   "metadata": {},
   "outputs": [],
   "source": []
  }
 ],
 "metadata": {
  "kernelspec": {
   "display_name": "Python 3 (ipykernel)",
   "language": "python",
   "name": "python3"
  },
  "language_info": {
   "codemirror_mode": {
    "name": "ipython",
    "version": 3
   },
   "file_extension": ".py",
   "mimetype": "text/x-python",
   "name": "python",
   "nbconvert_exporter": "python",
   "pygments_lexer": "ipython3",
   "version": "3.9.7"
  }
 },
 "nbformat": 4,
 "nbformat_minor": 5
}
